{
 "cells": [
  {
   "cell_type": "code",
   "execution_count": 1,
   "metadata": {
    "ExecuteTime": {
     "end_time": "2021-05-12T17:58:04.709186Z",
     "start_time": "2021-05-12T17:58:04.706698Z"
    }
   },
   "outputs": [],
   "source": [
    "import os"
   ]
  },
  {
   "cell_type": "code",
   "execution_count": 2,
   "metadata": {
    "ExecuteTime": {
     "end_time": "2021-05-12T17:58:04.713486Z",
     "start_time": "2021-05-12T17:58:04.710951Z"
    }
   },
   "outputs": [],
   "source": [
    "cwd = '/Users/mingyi_work/Desktop/Cognistx/amerigas/phase 3/DQE/05102021'\n",
    "os.chdir(cwd)"
   ]
  },
  {
   "cell_type": "markdown",
   "metadata": {},
   "source": [
    "# Get data"
   ]
  },
  {
   "cell_type": "code",
   "execution_count": 3,
   "metadata": {
    "ExecuteTime": {
     "end_time": "2021-05-12T17:58:06.228172Z",
     "start_time": "2021-05-12T17:58:04.714997Z"
    }
   },
   "outputs": [],
   "source": [
    "import pandas as pd\n",
    "import numpy as np\n",
    "from math import radians, cos, sin, asin, sqrt,ceil\n",
    "from itertools import combinations\n",
    "from sklearn.cluster import KMeans\n",
    "import collections, numpy\n",
    "from scipy.spatial.distance import cdist\n",
    "\n",
    "import matplotlib.pyplot as plt\n",
    "import seaborn as sns"
   ]
  },
  {
   "cell_type": "markdown",
   "metadata": {},
   "source": [
    "## VWERK"
   ]
  },
  {
   "cell_type": "code",
   "execution_count": 4,
   "metadata": {
    "ExecuteTime": {
     "end_time": "2021-05-12T17:58:17.550830Z",
     "start_time": "2021-05-12T17:58:06.229742Z"
    }
   },
   "outputs": [
    {
     "name": "stderr",
     "output_type": "stream",
     "text": [
      "/opt/anaconda3/lib/python3.7/site-packages/IPython/core/interactiveshell.py:3063: DtypeWarning: Columns (19) have mixed types.Specify dtype option on import or set low_memory=False.\n",
      "  interactivity=interactivity, compiler=compiler, result=result)\n"
     ]
    }
   ],
   "source": [
    "df_knvv = pd.read_csv('KNVV-cleaned.TXT', sep='\\t', usecols=[\"KNVV.KUNNR\", \"KNVV.VWERK\"])\n",
    "df_knvv.columns = [i.split('.')[1] for i in df_knvv.columns]\n",
    "\n",
    "# filter ship to \n",
    "df_knvv.KUNNR = pd.to_numeric(df_knvv.KUNNR, errors='coerce')\n",
    "df_knvv = df_knvv[~df_knvv.KUNNR.isna()]\n",
    "df_knvv.KUNNR = df_knvv.KUNNR.astype('int64')\n",
    "\n",
    "df_knvv = df_knvv[df_knvv.VWERK.isin([9225, 3221, 5171, 5185, 5228, 5169, 5511])]"
   ]
  },
  {
   "cell_type": "markdown",
   "metadata": {},
   "source": [
    "## Geocode"
   ]
  },
  {
   "cell_type": "markdown",
   "metadata": {},
   "source": [
    "'GeoCodeDistribution2Year_2020-09-xx'  is the 2 year extract  \n",
    "\"GeoCodeExtract_2020-09-14\" is daily extract of last 15 days. we get this everyday  \n",
    "\n",
    "Fields :\n",
    "\n",
    "- Ship to  \n",
    "- Delivery date / Route date\n",
    "- Order number  \n",
    "- Order Date  \n",
    "- Gallons/Cylinders delivered  \n",
    "\n",
    "If no delivery:  \n",
    "\n",
    "- Report gallons/cylinders are 0  \n",
    "- Delivery location ping geocode  "
   ]
  },
  {
   "cell_type": "markdown",
   "metadata": {},
   "source": [
    "### 15days"
   ]
  },
  {
   "cell_type": "code",
   "execution_count": 5,
   "metadata": {
    "ExecuteTime": {
     "end_time": "2021-05-12T17:58:18.431726Z",
     "start_time": "2021-05-12T17:58:17.552766Z"
    }
   },
   "outputs": [
    {
     "name": "stderr",
     "output_type": "stream",
     "text": [
      "/opt/anaconda3/lib/python3.7/site-packages/IPython/core/interactiveshell.py:3063: DtypeWarning: Columns (2) have mixed types.Specify dtype option on import or set low_memory=False.\n",
      "  interactivity=interactivity, compiler=compiler, result=result)\n"
     ]
    }
   ],
   "source": [
    "# 2021-02-11 - 2021-02-25\n",
    "ext1=pd.read_csv('/Users/mingyi_work/Desktop/Cognistx/amerigas/data/geocode/GeoCodeExtract_02262021.TXT',sep='\\t')\n",
    "\n",
    "ext1=ext1[(ext1.Cylinders_Delivered!=0)&(~ext1.Cylinders_Delivered.isna())]\n",
    "ext1.Route_Date=pd.to_datetime(ext1.Route_Date)\n",
    "ext1=ext1.sort_values('Route_Date')"
   ]
  },
  {
   "cell_type": "code",
   "execution_count": 6,
   "metadata": {
    "ExecuteTime": {
     "end_time": "2021-05-12T17:58:19.271424Z",
     "start_time": "2021-05-12T17:58:18.433145Z"
    }
   },
   "outputs": [
    {
     "name": "stderr",
     "output_type": "stream",
     "text": [
      "/opt/anaconda3/lib/python3.7/site-packages/IPython/core/interactiveshell.py:3063: DtypeWarning: Columns (2) have mixed types.Specify dtype option on import or set low_memory=False.\n",
      "  interactivity=interactivity, compiler=compiler, result=result)\n"
     ]
    }
   ],
   "source": [
    "# 2021-02-26 - 2021-03-12\n",
    "ext2=pd.read_csv('/Users/mingyi_work/Desktop/Cognistx/amerigas/data/geocode/GeoCodeExtract_03132021.TXT',sep='\\t')\n",
    "\n",
    "ext2=ext2[(ext2.Cylinders_Delivered!=0)&(~ext2.Cylinders_Delivered.isna())]\n",
    "ext2.Route_Date=pd.to_datetime(ext2.Route_Date)\n",
    "ext2=ext2.sort_values('Route_Date')"
   ]
  },
  {
   "cell_type": "code",
   "execution_count": 7,
   "metadata": {
    "ExecuteTime": {
     "end_time": "2021-05-12T17:58:20.042167Z",
     "start_time": "2021-05-12T17:58:19.272941Z"
    }
   },
   "outputs": [
    {
     "name": "stderr",
     "output_type": "stream",
     "text": [
      "/opt/anaconda3/lib/python3.7/site-packages/IPython/core/interactiveshell.py:3063: DtypeWarning: Columns (2) have mixed types.Specify dtype option on import or set low_memory=False.\n",
      "  interactivity=interactivity, compiler=compiler, result=result)\n"
     ]
    }
   ],
   "source": [
    "ext3=pd.read_csv('/Users/mingyi_work/Desktop/Cognistx/amerigas/data/geocode/GeoCodeExtract_03252021.TXT',sep='\\t')\n",
    "\n",
    "ext3=ext3[(ext3.Cylinders_Delivered!=0)&(~ext3.Cylinders_Delivered.isna())]\n",
    "ext3.Route_Date=pd.to_datetime(ext3.Route_Date)\n",
    "ext3=ext3.sort_values('Route_Date')"
   ]
  },
  {
   "cell_type": "code",
   "execution_count": 8,
   "metadata": {
    "ExecuteTime": {
     "end_time": "2021-05-12T17:58:20.759608Z",
     "start_time": "2021-05-12T17:58:20.043545Z"
    }
   },
   "outputs": [
    {
     "name": "stderr",
     "output_type": "stream",
     "text": [
      "/opt/anaconda3/lib/python3.7/site-packages/IPython/core/interactiveshell.py:3063: DtypeWarning: Columns (2) have mixed types.Specify dtype option on import or set low_memory=False.\n",
      "  interactivity=interactivity, compiler=compiler, result=result)\n"
     ]
    }
   ],
   "source": [
    "ext4=pd.read_csv('/Users/mingyi_work/Desktop/Cognistx/amerigas/data/geocode/GeoCodeExtract_04062021.TXT',sep='\\t')\n",
    "\n",
    "ext4=ext4[(ext4.Cylinders_Delivered!=0)&(~ext4.Cylinders_Delivered.isna())]\n",
    "ext4.Route_Date=pd.to_datetime(ext4.Route_Date)\n",
    "ext4=ext4.sort_values('Route_Date')"
   ]
  },
  {
   "cell_type": "code",
   "execution_count": 9,
   "metadata": {
    "ExecuteTime": {
     "end_time": "2021-05-12T17:58:21.374154Z",
     "start_time": "2021-05-12T17:58:20.760983Z"
    }
   },
   "outputs": [
    {
     "name": "stderr",
     "output_type": "stream",
     "text": [
      "/opt/anaconda3/lib/python3.7/site-packages/IPython/core/interactiveshell.py:3063: DtypeWarning: Columns (2) have mixed types.Specify dtype option on import or set low_memory=False.\n",
      "  interactivity=interactivity, compiler=compiler, result=result)\n"
     ]
    }
   ],
   "source": [
    "ext5=pd.read_csv('/Users/mingyi_work/Desktop/Cognistx/amerigas/data/geocode/GeoCodeExtract_04182021.TXT',sep='\\t')\n",
    "\n",
    "ext5=ext5[(ext5.Cylinders_Delivered!=0)&(~ext5.Cylinders_Delivered.isna())]\n",
    "ext5.Route_Date=pd.to_datetime(ext5.Route_Date)\n",
    "ext5=ext5.sort_values('Route_Date')"
   ]
  },
  {
   "cell_type": "code",
   "execution_count": 10,
   "metadata": {
    "ExecuteTime": {
     "end_time": "2021-05-12T17:58:21.856473Z",
     "start_time": "2021-05-12T17:58:21.376453Z"
    }
   },
   "outputs": [
    {
     "name": "stderr",
     "output_type": "stream",
     "text": [
      "/opt/anaconda3/lib/python3.7/site-packages/IPython/core/interactiveshell.py:3063: DtypeWarning: Columns (2) have mixed types.Specify dtype option on import or set low_memory=False.\n",
      "  interactivity=interactivity, compiler=compiler, result=result)\n"
     ]
    }
   ],
   "source": [
    "ext6=pd.read_csv('/Users/mingyi_work/Desktop/Cognistx/amerigas/data/geocode/GeoCodeExtract_05022021.TXT',sep='\\t')\n",
    "\n",
    "ext6=ext6[(ext6.Cylinders_Delivered!=0)&(~ext6.Cylinders_Delivered.isna())]\n",
    "ext6.Route_Date=pd.to_datetime(ext6.Route_Date)\n",
    "ext6=ext6.sort_values('Route_Date')"
   ]
  },
  {
   "cell_type": "code",
   "execution_count": 11,
   "metadata": {
    "ExecuteTime": {
     "end_time": "2021-05-12T17:58:22.397647Z",
     "start_time": "2021-05-12T17:58:21.858206Z"
    }
   },
   "outputs": [
    {
     "name": "stderr",
     "output_type": "stream",
     "text": [
      "/opt/anaconda3/lib/python3.7/site-packages/IPython/core/interactiveshell.py:3063: DtypeWarning: Columns (2) have mixed types.Specify dtype option on import or set low_memory=False.\n",
      "  interactivity=interactivity, compiler=compiler, result=result)\n"
     ]
    }
   ],
   "source": [
    "ext0=pd.read_csv('GeoCodeExtract.TXT',sep='\\t')\n",
    "\n",
    "ext0=ext0[(ext0.Cylinders_Delivered!=0)&(~ext0.Cylinders_Delivered.isna())]\n",
    "ext0.Route_Date=pd.to_datetime(ext0.Route_Date)\n",
    "ext0=ext0.sort_values('Route_Date')"
   ]
  },
  {
   "cell_type": "code",
   "execution_count": 12,
   "metadata": {
    "ExecuteTime": {
     "end_time": "2021-05-12T17:58:23.251151Z",
     "start_time": "2021-05-12T17:58:22.399052Z"
    }
   },
   "outputs": [],
   "source": [
    "ext = pd.concat([ext0,ext1, ext2, ext3, ext4,ext5,ext6], axis = 0)\n",
    "ext = ext.drop_duplicates()\n",
    "\n",
    "# filter ship to\n",
    "ext = ext[ext.Customer_Ship_To_Number < 2 *10**8]\n",
    "\n",
    "#filter sold to\n",
    "ext = ext[(ext.Cylinders_Delivered != 0)]\n",
    "ext = ext[(ext.Actual_Gallons > 0) & (~ext.Actual_Gallons.isna())]\n",
    "ext = ext[~ext.Cluster_Latitude.isna()]\n",
    "\n",
    "# route_Date datatype change\n",
    "ext.Route_Date=pd.to_datetime(ext.Route_Date)\n",
    "ext=ext.sort_values('Route_Date')"
   ]
  },
  {
   "cell_type": "markdown",
   "metadata": {},
   "source": [
    "### 2 years data\n",
    "* date: 2017-10-01 --- 2021-02-11\n",
    "\n",
    "* KUNNR: 1. only include integer(e.g AGOWN is deleted); 2. smaller than 200,000,000\n",
    "\n",
    "* Actual_Gallons > 0 and is not missing\n",
    "* Cylinders_Delivered != 0\n",
    "* cluster_latitude is not missing"
   ]
  },
  {
   "cell_type": "code",
   "execution_count": 13,
   "metadata": {
    "ExecuteTime": {
     "end_time": "2021-05-12T17:58:54.827524Z",
     "start_time": "2021-05-12T17:58:23.252579Z"
    }
   },
   "outputs": [],
   "source": [
    "dis = pd.read_csv('/Users/mingyi_work/Desktop/Cognistx/amerigas/data/geocode/GeoCodeExtract_Full.csv')\n",
    "dis = dis.drop(columns = ['Unnamed: 0'])\n",
    "\n",
    "# filter ship to\n",
    "dis['Customer_Ship_To_Number'] = pd.to_numeric(dis['Customer_Ship_To_Number'], errors='coerce').astype('int64')\n",
    "dis = dis[~dis.Customer_Ship_To_Number.isna()]\n",
    "dis = dis[dis.Customer_Ship_To_Number<2*10**8]\n",
    "\n",
    "#filter sold to\n",
    "dis = dis[(dis.Cylinders_Delivered != 0)]\n",
    "dis = dis[(dis.Actual_Gallons > 0) & (~dis.Actual_Gallons.isna())]\n",
    "dis = dis[~dis.Cluster_Latitude.isna()]\n",
    "\n",
    "# route_Date datatype change\n",
    "dis.Route_Date=pd.to_datetime(dis.Route_Date)\n",
    "dis=dis.sort_values('Route_Date')\n",
    "\n",
    "dis = dis.reset_index(drop = True)"
   ]
  },
  {
   "cell_type": "code",
   "execution_count": 14,
   "metadata": {
    "ExecuteTime": {
     "end_time": "2021-05-12T17:58:54.934709Z",
     "start_time": "2021-05-12T17:58:54.828969Z"
    }
   },
   "outputs": [
    {
     "name": "stdout",
     "output_type": "stream",
     "text": [
      "Two years data: 2017-10-01 00:00:00 - 2021-02-11 00:00:00\n"
     ]
    }
   ],
   "source": [
    "print('Two years data:',dis.Route_Date.min(),'-',dis.Route_Date.max())"
   ]
  },
  {
   "cell_type": "code",
   "execution_count": 15,
   "metadata": {
    "ExecuteTime": {
     "end_time": "2021-05-12T17:58:56.132341Z",
     "start_time": "2021-05-12T17:58:54.936107Z"
    }
   },
   "outputs": [
    {
     "name": "stdout",
     "output_type": "stream",
     "text": [
      "dis (18360488, 9)\n",
      "Route_Date                 0.000000\n",
      "Customer_Ship_To_Number    0.000000\n",
      "Sales_Order_Number         0.000000\n",
      "Created_On_Order           0.000000\n",
      "Cluster_Latitude           0.000000\n",
      "Cluster_Longitude          0.000000\n",
      "Actual_Gallons             0.000000\n",
      "Cylinders_Delivered        0.750352\n",
      "DC_Order_Reason            0.806141\n",
      "dtype: float64\n"
     ]
    }
   ],
   "source": [
    "print('dis', dis.shape)\n",
    "print(dis.isnull().sum(0)/dis.shape[0])"
   ]
  },
  {
   "cell_type": "markdown",
   "metadata": {},
   "source": [
    "### Combine geocode data"
   ]
  },
  {
   "cell_type": "code",
   "execution_count": 16,
   "metadata": {
    "ExecuteTime": {
     "end_time": "2021-05-12T17:59:41.539797Z",
     "start_time": "2021-05-12T17:58:56.133462Z"
    }
   },
   "outputs": [],
   "source": [
    "df_geocode = pd.concat([ext, dis[ext.columns]], axis = 0)\n",
    "df_geocode = df_geocode.drop_duplicates()"
   ]
  },
  {
   "cell_type": "code",
   "execution_count": 17,
   "metadata": {
    "ExecuteTime": {
     "end_time": "2021-05-12T17:59:42.301463Z",
     "start_time": "2021-05-12T17:59:41.541119Z"
    }
   },
   "outputs": [],
   "source": [
    "# Only keep accounts in valid district\n",
    "df_geocode = df_geocode[df_geocode.Customer_Ship_To_Number.isin(df_knvv.KUNNR)]"
   ]
  },
  {
   "cell_type": "markdown",
   "metadata": {},
   "source": [
    "# Exclude YARD "
   ]
  },
  {
   "cell_type": "code",
   "execution_count": 18,
   "metadata": {
    "ExecuteTime": {
     "end_time": "2021-05-12T17:59:42.307552Z",
     "start_time": "2021-05-12T17:59:42.302902Z"
    }
   },
   "outputs": [],
   "source": [
    "class AppConstant(object):\n",
    "    MELISSA_API_BATCH_LIMIT = 100\n",
    "    MELISSA_DEFAULT_COUNTRY = \"USA\"\n",
    "    DEFAULT_TIMEZONE = \"US/Eastern\"\n",
    "    RESOURCE_S3 = \"s3\"\n",
    "    USECASE_PROCESSING_BATCH_LIMIT = 10000\n",
    "    LOAD_CUSTOMERS_BATCH_LIMIT = 50000\n",
    "    S436_BATCH_LIMIT = 100000\n",
    "    ANOMALY_STATUS_REPEAT = 'REPEAT'\n",
    "    ANOMALY_STATUS_RESOLVED = 'RESOLVED'\n",
    "    RULE_TYPE_INDIVIDUAL = 'INDIVIDUAL'\n",
    "    RULE_TYPE_COMBINED = 'COMBINED'\n",
    "    SIMILAR_GEOCODES = 3\n",
    "    DUPLICATE_GEOCODES = 2\n",
    "    GEOCODES_LENGTH = 250 # In feets\n",
    "    YARD_LENGTH = 250 # In feets\n",
    "    RADIUS_OF_EARTH = 20914080 # In Feets\n",
    "    RULE_SIMILAR_GEOCODE_MATCHED = -2\n",
    "    RULE_SIMILAR_GEOCODE_LENGTH_3 = 1\n",
    "    RULE_SIMILAR_GEOCODE_LENGTH_2 = 2\n",
    "    RULE_SIMILAR_GEOCODE_LENGTH_0 = 4\n",
    "    GEOCODE_PROCESSING_BATCH_LIMIT = 50000"
   ]
  },
  {
   "cell_type": "code",
   "execution_count": 19,
   "metadata": {
    "ExecuteTime": {
     "end_time": "2021-05-12T17:59:42.313742Z",
     "start_time": "2021-05-12T17:59:42.309001Z"
    }
   },
   "outputs": [],
   "source": [
    "def get_distance(lon1, lat1, lon2, lat2):\n",
    "        \"\"\"\n",
    "        Calculate the great circle distance between two points\n",
    "        on the earth (specified in decimal degrees)\n",
    "        \"\"\"\n",
    "        # convert decimal degrees to radians\n",
    "        lon1, lat1, lon2, lat2 = map(radians, [lon1, lat1, lon2, lat2])\n",
    "        # haversine formula\n",
    "        dist_long = lon2 - lon1\n",
    "        dist_lat = lat2 - lat1\n",
    "        a = sin(dist_lat/2)**2 + cos(lat1) * cos(lat2) * sin(dist_long/2)**2\n",
    "        c = 2 * asin(sqrt(a))\n",
    "        # Radius of earth in feets and hence distance in feets\n",
    "        dist_ft = AppConstant.RADIUS_OF_EARTH * c\n",
    "        return dist_ft"
   ]
  },
  {
   "cell_type": "code",
   "execution_count": 20,
   "metadata": {
    "ExecuteTime": {
     "end_time": "2021-05-12T17:59:42.321217Z",
     "start_time": "2021-05-12T17:59:42.315722Z"
    }
   },
   "outputs": [],
   "source": [
    "def get_distance_vector(df_yard,lon1, lat1):\n",
    "    yard_long = np.array(list(map(radians, df_yard.Longitude)))\n",
    "    yard_lat = np.array(list(map(radians, df_yard.Latitude)))\n",
    "    lon1 = list(map(radians, [lon1]))\n",
    "    lat1 = list(map(radians, [lat1]))\n",
    "    mylon = yard_long - lon1\n",
    "    mylat = yard_lat - lat1\n",
    "    a = np.sin(mylat/2)**2 + np.cos(yard_lat) * np.cos(lat1) * np.sin(mylon/2)**2\n",
    "    c = 2 * np.arcsin(np.sqrt(a))\n",
    "    dist_ft = AppConstant.RADIUS_OF_EARTH * c\n",
    "    return min(dist_ft)"
   ]
  },
  {
   "cell_type": "code",
   "execution_count": 21,
   "metadata": {
    "ExecuteTime": {
     "end_time": "2021-05-12T17:59:43.425719Z",
     "start_time": "2021-05-12T17:59:42.322783Z"
    }
   },
   "outputs": [],
   "source": [
    "df_yard = pd.read_excel('/Users/mingyi_work/Desktop/Cognistx/amerigas/AmeriGas AI:ML/geocode cluster/Fill Location Geocodes 04222021.xlsx', sheet_name='Master List')\n",
    "df_yard.columns = [i.strip() for i in df_yard.columns]"
   ]
  },
  {
   "cell_type": "code",
   "execution_count": 22,
   "metadata": {
    "ExecuteTime": {
     "end_time": "2021-05-12T17:59:43.447909Z",
     "start_time": "2021-05-12T17:59:43.427040Z"
    }
   },
   "outputs": [],
   "source": [
    "df_yard.Longitude = df_yard.Longitude.astype(str).str.strip().replace('',np.nan)\n",
    "df_yard.Latitude = df_yard.Latitude.astype(str).str.strip().replace('',np.nan)\n",
    "df_yard = df_yard[~(df_yard.Latitude.isna() | df_yard.Longitude.isna())]\n",
    "\n",
    "df_yard.Longitude = df_yard.Longitude.astype('float64')\n",
    "df_yard.Latitude = df_yard.Latitude.astype('float64')\n",
    "\n",
    "df_yard = df_yard[['Longitude','Latitude']].drop_duplicates()"
   ]
  },
  {
   "cell_type": "code",
   "execution_count": 23,
   "metadata": {
    "ExecuteTime": {
     "end_time": "2021-05-12T18:02:11.158910Z",
     "start_time": "2021-05-12T17:59:43.449353Z"
    }
   },
   "outputs": [
    {
     "name": "stdout",
     "output_type": "stream",
     "text": [
      "0\n"
     ]
    },
    {
     "name": "stderr",
     "output_type": "stream",
     "text": [
      "/opt/anaconda3/lib/python3.7/site-packages/pandas/core/indexing.py:1637: SettingWithCopyWarning: \n",
      "A value is trying to be set on a copy of a slice from a DataFrame\n",
      "\n",
      "See the caveats in the documentation: https://pandas.pydata.org/pandas-docs/stable/user_guide/indexing.html#returning-a-view-versus-a-copy\n",
      "  self._setitem_single_block(indexer, value, name)\n"
     ]
    },
    {
     "name": "stdout",
     "output_type": "stream",
     "text": [
      "10000\n",
      "20000\n",
      "30000\n",
      "40000\n",
      "50000\n",
      "60000\n",
      "70000\n",
      "80000\n",
      "90000\n",
      "100000\n",
      "110000\n",
      "120000\n",
      "130000\n",
      "140000\n",
      "150000\n",
      "160000\n"
     ]
    }
   ],
   "source": [
    "df_geocode = df_geocode.reset_index(drop=True)\n",
    "df_yard = df_yard.reset_index(drop=True)\n",
    "df_geocode['yard_flag'] = 0\n",
    "for n in range(df_geocode.shape[0]):\n",
    "    if n % 10000 == 0:\n",
    "        print (n)\n",
    "    tmp_distance = get_distance_vector(df_yard,df_geocode.Cluster_Longitude.iloc[n], df_geocode.Cluster_Latitude.iloc[n])\n",
    "    if tmp_distance <= AppConstant.YARD_LENGTH:\n",
    "        df_geocode['yard_flag'].iloc[n] = 1"
   ]
  },
  {
   "cell_type": "markdown",
   "metadata": {},
   "source": [
    "# format to fit following function"
   ]
  },
  {
   "cell_type": "code",
   "execution_count": 24,
   "metadata": {
    "ExecuteTime": {
     "end_time": "2021-05-12T18:02:11.702373Z",
     "start_time": "2021-05-12T18:02:11.160174Z"
    }
   },
   "outputs": [],
   "source": [
    "dis10=df_geocode[df_geocode.yard_flag == 0].sort_values(['Customer_Ship_To_Number','Route_Date','Sales_Order_Number'],ascending = False).groupby('Customer_Ship_To_Number').head(10)"
   ]
  },
  {
   "cell_type": "code",
   "execution_count": 25,
   "metadata": {
    "ExecuteTime": {
     "end_time": "2021-05-12T18:02:11.718531Z",
     "start_time": "2021-05-12T18:02:11.707039Z"
    },
    "scrolled": true
   },
   "outputs": [
    {
     "data": {
      "text/plain": [
       "10    3858\n",
       "1     3306\n",
       "2     2303\n",
       "3     1912\n",
       "4     1220\n",
       "5     1004\n",
       "6      787\n",
       "7      640\n",
       "8      549\n",
       "9      436\n",
       "Name: Route_Date, dtype: int64"
      ]
     },
     "execution_count": 25,
     "metadata": {},
     "output_type": "execute_result"
    }
   ],
   "source": [
    "dis10.groupby('Customer_Ship_To_Number').Route_Date.count().value_counts()"
   ]
  },
  {
   "cell_type": "code",
   "execution_count": 26,
   "metadata": {
    "ExecuteTime": {
     "end_time": "2021-05-12T18:02:11.790523Z",
     "start_time": "2021-05-12T18:02:11.720915Z"
    },
    "scrolled": true
   },
   "outputs": [],
   "source": [
    "dis10['geo_combine'] = dis10[['Cluster_Longitude','Cluster_Latitude']].values.tolist()"
   ]
  },
  {
   "cell_type": "code",
   "execution_count": 27,
   "metadata": {
    "ExecuteTime": {
     "end_time": "2021-05-12T18:02:12.215035Z",
     "start_time": "2021-05-12T18:02:11.792249Z"
    }
   },
   "outputs": [],
   "source": [
    "dis_geo_combine = dis10.groupby('Customer_Ship_To_Number')['geo_combine'].apply(list).reset_index()\n",
    "dis_geo_combine['geo_count'] = dis_geo_combine['geo_combine'].apply(lambda x: len(x))"
   ]
  },
  {
   "cell_type": "markdown",
   "metadata": {},
   "source": [
    "# get 3 closest geocodes based on 10 latest deliveres\n",
    "* distance  = 250"
   ]
  },
  {
   "cell_type": "code",
   "execution_count": 28,
   "metadata": {
    "ExecuteTime": {
     "end_time": "2021-05-12T18:02:12.228539Z",
     "start_time": "2021-05-12T18:02:12.216426Z"
    }
   },
   "outputs": [],
   "source": [
    "def get_similar_geocodes(geocodes,geo_length):\n",
    "    #logger.debug(\"Finding geocodes which are similar or whose length is less than %s\", AppConstant.GEOCODES_LENGTH)\n",
    "    duplicate = None\n",
    "  \n",
    "    # Checking if geocodes are similar\n",
    "    if (geocodes is not None and len(geocodes) >= AppConstant.SIMILAR_GEOCODES):\n",
    "        #logger.debug(\"Got geocodes with length  %s\", len(geocodes))\n",
    "    \n",
    "        # List for Similar geocodes\n",
    "        geocode_list = list()\n",
    "        for item in geocodes:\n",
    "            if geocodes.count(item) >= AppConstant.SIMILAR_GEOCODES:\n",
    "                #logger.debug(\"Got similar geocodes with value %s\", item)\n",
    "                geocode_list += AppConstant.SIMILAR_GEOCODES * [item]\n",
    "                return geocode_list\n",
    "            if duplicate is None and geocodes.count(item) == AppConstant.DUPLICATE_GEOCODES:\n",
    "                #logger.debug(\"Got duplicate geocodes with value %s\", item)\n",
    "                # List for duplicate geocodes\n",
    "                geo_duplicate_list = list()\n",
    "                geo_duplicate_list += AppConstant.DUPLICATE_GEOCODES * [item]\n",
    "                duplicate = geo_duplicate_list\n",
    "    else:\n",
    "        #logger.debug(\"Nothing to process since got geocodes data with length less than %s.\", AppConstant.SIMILAR_GEOCODES)\n",
    "        return list()\n",
    "\n",
    "    min_len_pair_val = float('inf') \n",
    "    min_len_pair_geocodes = None\n",
    "\n",
    "    # Finding unique combinations of geocodes by length specified(AppConstant.SIMILAR_GEOCODES) \n",
    "    geocode_combinations_tup = combinations(geocodes, AppConstant.SIMILAR_GEOCODES)\n",
    "    geocode_combinations = list(geocode_combinations_tup)\n",
    "    \n",
    "    if len(geocode_combinations)> 0:\n",
    "        geocode_comb_list = list(geocode_combinations)\n",
    "        no_of_elements = 2\n",
    "        \n",
    "        # Iterating over unique geocode combination list and finding a combination\n",
    "        for geocode_comb in geocode_comb_list:\n",
    "            # Getting combinations of inner elements and converting to list\n",
    "            comb = combinations(list(geocode_comb), no_of_elements)\n",
    "            comb_list = list(comb)\n",
    "            \n",
    "            if comb_list is not None and len(comb_list)> 0:\n",
    "                for index, item in enumerate(comb_list):\n",
    "                    comb_item = list(item)\n",
    "                    distance = get_distance(comb_item[0][0], comb_item[0][1], comb_item[1][0], comb_item[1][1])\n",
    "                    \n",
    "                    if distance > geo_length:\n",
    "                        break\n",
    "    \n",
    "                    # Finding two geocodes satisfying the criteria\n",
    "                    if distance < min_len_pair_val:\n",
    "                        min_len_pair_val = distance\n",
    "                        min_len_pair_geocodes = item\n",
    "                    \n",
    "                    if index == len(comb_list)-1:\n",
    "                        #logger.debug(\"Got geocodes satisfying the criteria of having length less than %s\", AppConstant.GEOCODES_LENGTH)\n",
    "                        return geocode_comb\n",
    "        \n",
    "        #logger.debug(\"No %s geocodes exist which satisfied the criteria\", AppConstant.SIMILAR_GEOCODES)\n",
    "    \n",
    "        # Check if geocodes with similar value already exists\n",
    "        if duplicate is not None:\n",
    "            #logger.debug(\"Got similar geocodes with duplicate values and hence returning\")\n",
    "            return duplicate\n",
    "    \n",
    "        # If there are atleast two points whose distance between them satisfied the criteria\n",
    "        if min_len_pair_geocodes is not None:\n",
    "            #logger.debug(\"Got two geocodes whose length is minimum and satisfied the criteria\")\n",
    "            return min_len_pair_geocodes\n",
    "    \n",
    "        # Checking by making combinations of two in the original array\n",
    "        geocodes_comb_pair_tup = combinations(geocodes, no_of_elements)\n",
    "        geocodes_comb_pair = list(geocodes_comb_pair_tup)\n",
    "       \n",
    "        #self.logger.debug(\"Got geocode combination pairs with length %d\", len(geocodes_comb_pair), exc_info=1)\n",
    "        for geocode_comb in geocodes_comb_pair:\n",
    "            item = list(geocode_comb)\n",
    "            distance = get_distance(item[0][0], item[0][1], item[1][0], item[1][1])\n",
    "    \n",
    "            if distance < geo_length:\n",
    "                #logger.debug(\"Got geocode pairs whose distance between them satisfied the criteria\")\n",
    "                return geocode_comb\n",
    "                \n",
    "    else:\n",
    "        #logger.debug(\"No geocode combinations found\")\n",
    "        return list()              \n",
    "        \n",
    "        \n",
    "            \n",
    "        \n"
   ]
  },
  {
   "cell_type": "markdown",
   "metadata": {},
   "source": [
    "### Generate 3 geocodes"
   ]
  },
  {
   "cell_type": "code",
   "execution_count": 29,
   "metadata": {
    "ExecuteTime": {
     "end_time": "2021-05-12T18:02:12.543604Z",
     "start_time": "2021-05-12T18:02:12.229829Z"
    }
   },
   "outputs": [],
   "source": [
    "dis_geo_combine['geo_3_close'] = dis_geo_combine['geo_combine'].apply(lambda x: get_similar_geocodes(x,250))\n",
    "\n",
    "dis_geo_combine = dis_geo_combine[~dis_geo_combine.geo_3_close.isna()]\n",
    "dis_geo_combine = dis_geo_combine[dis_geo_combine.geo_3_close.str.len()!=0]"
   ]
  },
  {
   "cell_type": "code",
   "execution_count": 30,
   "metadata": {
    "ExecuteTime": {
     "end_time": "2021-05-12T18:02:12.546975Z",
     "start_time": "2021-05-12T18:02:12.544765Z"
    }
   },
   "outputs": [],
   "source": [
    "def avg(list):\n",
    "    return sum(list)/len(list)"
   ]
  },
  {
   "cell_type": "code",
   "execution_count": 31,
   "metadata": {
    "ExecuteTime": {
     "end_time": "2021-05-12T18:02:12.585726Z",
     "start_time": "2021-05-12T18:02:12.548295Z"
    }
   },
   "outputs": [],
   "source": [
    "dis_geo_combine['recommend'] = dis_geo_combine.geo_3_close.apply(lambda x: list(map(avg, zip(*x))))\n",
    "dis_geo_combine['recommend'] = dis_geo_combine.recommend.apply(lambda x: [round(i,10) for i in x])"
   ]
  },
  {
   "cell_type": "code",
   "execution_count": 32,
   "metadata": {
    "ExecuteTime": {
     "end_time": "2021-05-12T18:02:12.609159Z",
     "start_time": "2021-05-12T18:02:12.587000Z"
    }
   },
   "outputs": [],
   "source": [
    "dis_geo_combine['long_recommend'] = dis_geo_combine['recommend'].apply(lambda x: str(x[0]))\n",
    "dis_geo_combine['lat_recommend'] = dis_geo_combine['recommend'].apply(lambda x: str(x[1]))"
   ]
  },
  {
   "cell_type": "markdown",
   "metadata": {},
   "source": [
    "## Compare with SAP lat&long"
   ]
  },
  {
   "cell_type": "code",
   "execution_count": 33,
   "metadata": {
    "ExecuteTime": {
     "end_time": "2021-05-12T18:02:27.185464Z",
     "start_time": "2021-05-12T18:02:12.610921Z"
    }
   },
   "outputs": [
    {
     "name": "stderr",
     "output_type": "stream",
     "text": [
      "/opt/anaconda3/lib/python3.7/site-packages/IPython/core/interactiveshell.py:3063: DtypeWarning: Columns (7) have mixed types.Specify dtype option on import or set low_memory=False.\n",
      "  interactivity=interactivity, compiler=compiler, result=result)\n"
     ]
    }
   ],
   "source": [
    "df_latlong = pd.read_csv('KNA1-cleaned.TXT', sep = '\\t')[['KNA1./ICO/KOORDX','KNA1./ICO/KOORDY','KNA1.KUNNR']]\n",
    "df_latlong.columns = ['SAP_long','SAP_lat','Customer_Ship_To_Number']\n",
    "df_latlong = df_latlong[(~df_latlong['SAP_lat'].isnull()) & (~df_latlong['SAP_long'].isnull())]"
   ]
  },
  {
   "cell_type": "code",
   "execution_count": 34,
   "metadata": {
    "ExecuteTime": {
     "end_time": "2021-05-12T18:02:28.845895Z",
     "start_time": "2021-05-12T18:02:27.186793Z"
    }
   },
   "outputs": [],
   "source": [
    "out = dis_geo_combine.merge(df_latlong, on = 'Customer_Ship_To_Number', how = 'left')\n",
    "out = out.merge(df_knvv.rename(columns = {'KUNNR':'Customer_Ship_To_Number'}), on = 'Customer_Ship_To_Number', how = 'left')"
   ]
  },
  {
   "cell_type": "code",
   "execution_count": 35,
   "metadata": {
    "ExecuteTime": {
     "end_time": "2021-05-12T18:02:29.177945Z",
     "start_time": "2021-05-12T18:02:28.847380Z"
    }
   },
   "outputs": [],
   "source": [
    "out['away_from_SAP'] = out.apply(lambda x: get_distance(x.SAP_long, x.SAP_lat, float(x.long_recommend), float(x.lat_recommend)), axis = 1)"
   ]
  },
  {
   "cell_type": "code",
   "execution_count": 36,
   "metadata": {
    "ExecuteTime": {
     "end_time": "2021-05-12T18:02:29.185060Z",
     "start_time": "2021-05-12T18:02:29.179434Z"
    }
   },
   "outputs": [],
   "source": [
    "out_pilot_3 = out[['Customer_Ship_To_Number','VWERK','geo_3_close','recommend','long_recommend','lat_recommend','SAP_long','SAP_lat','away_from_SAP']]\n",
    "out_pilot_3.columns = ['Customer Ship To Number','District','Top 3 Closest Geocodes','Geocode Recommendation','Longitude recommendation','Latitude Recommendation','SAP longitude','SAP latitude','Distance from SAP']"
   ]
  },
  {
   "cell_type": "code",
   "execution_count": null,
   "metadata": {
    "ExecuteTime": {
     "end_time": "2021-05-12T18:02:29.386858Z",
     "start_time": "2021-05-12T17:58:04.776Z"
    }
   },
   "outputs": [],
   "source": [
    "out_pilot_3.to_csv('/Users/mingyi_work/Desktop/Cognistx/amerigas/data/geocode/geocode_recommmendation_pilot4.csv')"
   ]
  },
  {
   "cell_type": "code",
   "execution_count": null,
   "metadata": {},
   "outputs": [],
   "source": []
  },
  {
   "cell_type": "code",
   "execution_count": null,
   "metadata": {},
   "outputs": [],
   "source": []
  },
  {
   "cell_type": "code",
   "execution_count": null,
   "metadata": {},
   "outputs": [],
   "source": []
  },
  {
   "cell_type": "code",
   "execution_count": null,
   "metadata": {
    "ExecuteTime": {
     "end_time": "2021-05-12T18:02:29.387511Z",
     "start_time": "2021-05-12T17:58:04.781Z"
    }
   },
   "outputs": [],
   "source": [
    "# delete geo_3_close == []\n",
    "df_sap = df_sap[df_sap['geo_3_close'].str.len() != 0]"
   ]
  },
  {
   "cell_type": "code",
   "execution_count": null,
   "metadata": {
    "ExecuteTime": {
     "end_time": "2021-05-12T18:02:29.388220Z",
     "start_time": "2021-05-12T17:58:04.782Z"
    }
   },
   "outputs": [],
   "source": [
    "df_sap[['geo1','geo2','geo3']] = pd.DataFrame(df_sap['geo_3_close'].tolist(),index = df_sap.index)"
   ]
  },
  {
   "cell_type": "code",
   "execution_count": null,
   "metadata": {
    "ExecuteTime": {
     "end_time": "2021-05-12T18:02:29.388927Z",
     "start_time": "2021-05-12T17:58:04.784Z"
    }
   },
   "outputs": [],
   "source": [
    "df_sap['geo_count'].value_counts()"
   ]
  },
  {
   "cell_type": "code",
   "execution_count": null,
   "metadata": {
    "ExecuteTime": {
     "end_time": "2021-05-12T18:02:29.390057Z",
     "start_time": "2021-05-12T17:58:04.786Z"
    }
   },
   "outputs": [],
   "source": [
    "df_sap['len1'] = df_sap.apply(lambda x: get_distance(x.SAP_long, x.SAP_lat, x.geo1[0], x.geo1[1]) if (x.geo1 is not None) else None, axis = 1)\n",
    "df_sap['len2'] = df_sap.apply(lambda x: get_distance(x.SAP_long, x.SAP_lat, x.geo2[0], x.geo2[1]) if (x.geo2 is not None) else None, axis = 1)\n",
    "df_sap['len3'] = df_sap.apply(lambda x: get_distance(x.SAP_long, x.SAP_lat, x.geo3[0], x.geo3[1]) if (x.geo3 is not None) else None, axis = 1)\n"
   ]
  },
  {
   "cell_type": "code",
   "execution_count": null,
   "metadata": {
    "ExecuteTime": {
     "end_time": "2021-05-12T18:02:29.390735Z",
     "start_time": "2021-05-12T17:58:04.788Z"
    }
   },
   "outputs": [],
   "source": [
    "df_sap['len_mean'] = df_sap[['len1','len2','len3']].mean(axis = 1)"
   ]
  },
  {
   "cell_type": "code",
   "execution_count": null,
   "metadata": {
    "ExecuteTime": {
     "end_time": "2021-05-12T18:02:29.391312Z",
     "start_time": "2021-05-12T17:58:04.789Z"
    },
    "scrolled": false
   },
   "outputs": [],
   "source": [
    "df_sap.head()"
   ]
  },
  {
   "cell_type": "code",
   "execution_count": null,
   "metadata": {
    "ExecuteTime": {
     "end_time": "2021-05-12T18:02:29.391967Z",
     "start_time": "2021-05-12T17:58:04.791Z"
    }
   },
   "outputs": [],
   "source": [
    "df_sap.len_mean.describe()"
   ]
  },
  {
   "cell_type": "markdown",
   "metadata": {},
   "source": [
    "#### 400 feet distance tolerance"
   ]
  },
  {
   "cell_type": "code",
   "execution_count": null,
   "metadata": {
    "ExecuteTime": {
     "end_time": "2021-05-12T18:02:29.392567Z",
     "start_time": "2021-05-12T17:58:04.793Z"
    }
   },
   "outputs": [],
   "source": [
    "df_sap_400 = dis_geo_combine_400.merge(df_latlong, on = 'Customer_Ship_To_Number', how = 'left')\n",
    "df_sap_400 = df_sap_400[~df_sap_400['SAP_long'].isnull()]\n",
    "df_sap_400 = df_sap_400[~df_sap_400['geo_3_close'].isnull()]\n",
    "df_sap_400 = df_sap_400[df_sap_400['geo_3_close'].str.len() != 0]\n",
    "df_sap_400[['geo1','geo2','geo3']] = pd.DataFrame(df_sap_400['geo_3_close'].tolist(),index = df_sap_400.index)\n",
    "\n",
    "df_sap_400['len1'] = df_sap_400.apply(lambda x: get_distance(x.SAP_long, x.SAP_lat, x.geo1[0], x.geo1[1]) if (x.geo1 is not None) else None, axis = 1)\n",
    "df_sap_400['len2'] = df_sap_400.apply(lambda x: get_distance(x.SAP_long, x.SAP_lat, x.geo2[0], x.geo2[1]) if (x.geo2 is not None) else None, axis = 1)\n",
    "df_sap_400['len3'] = df_sap_400.apply(lambda x: get_distance(x.SAP_long, x.SAP_lat, x.geo3[0], x.geo3[1]) if (x.geo3 is not None) else None, axis = 1)\n",
    "df_sap_400['len_mean'] = df_sap_400[['len1','len2','len3']].mean(axis = 1)"
   ]
  },
  {
   "cell_type": "code",
   "execution_count": null,
   "metadata": {
    "ExecuteTime": {
     "end_time": "2021-05-12T18:02:29.393404Z",
     "start_time": "2021-05-12T17:58:04.794Z"
    }
   },
   "outputs": [],
   "source": [
    "df_sap_400.len_mean.describe()"
   ]
  },
  {
   "cell_type": "code",
   "execution_count": null,
   "metadata": {
    "ExecuteTime": {
     "end_time": "2021-05-12T18:02:29.394267Z",
     "start_time": "2021-05-12T17:58:04.796Z"
    }
   },
   "outputs": [],
   "source": [
    "df_sap_400_no_anomaly = df_sap_400[df_sap_400.len_mean < 10000]"
   ]
  },
  {
   "cell_type": "markdown",
   "metadata": {},
   "source": [
    "## Delete anomaly before clustering "
   ]
  },
  {
   "cell_type": "code",
   "execution_count": null,
   "metadata": {
    "ExecuteTime": {
     "end_time": "2021-05-12T18:02:29.394928Z",
     "start_time": "2021-05-12T17:58:04.798Z"
    }
   },
   "outputs": [],
   "source": [
    "# % of range\n",
    "df_sap_dist = np.log10(df_sap['len_mean']).apply(np.floor).value_counts().reset_index()\n",
    "df_sap_dist.columns = ['range','count']\n",
    "df_sap_dist['percentage%'] = df_sap_dist['count']*100 / df_sap.shape[0]\n",
    "df_sap_dist = df_sap_dist.sort_values('range')\n",
    "df_sap_dist.insert(1,column = 'value', value = ['0-1','1-10','10-100','100-1000','1000-10000','10000-1e5','1e5-1e6','1e6-1e7','1e7-1e8'])\n",
    "print(df_sap_dist)"
   ]
  },
  {
   "cell_type": "code",
   "execution_count": null,
   "metadata": {
    "ExecuteTime": {
     "end_time": "2021-05-12T18:02:29.395598Z",
     "start_time": "2021-05-12T17:58:04.799Z"
    }
   },
   "outputs": [],
   "source": [
    "# delete len_mean > 10000 \n",
    "# they take 2.32% of all data\n",
    "df_sap_no_anomaly = df_sap[df_sap.len_mean<10000]"
   ]
  },
  {
   "cell_type": "markdown",
   "metadata": {},
   "source": [
    "## K-means clustering"
   ]
  },
  {
   "cell_type": "markdown",
   "metadata": {},
   "source": [
    "#### 250 feet tolerance"
   ]
  },
  {
   "cell_type": "code",
   "execution_count": null,
   "metadata": {
    "ExecuteTime": {
     "end_time": "2021-05-12T18:02:29.396271Z",
     "start_time": "2021-05-12T17:58:04.802Z"
    }
   },
   "outputs": [],
   "source": [
    "distortions = []\n",
    "K = range(1,10)\n",
    "for k in K:\n",
    "    kmeanModel = KMeans(n_clusters=k).fit(df_sap_no_anomaly['len_mean'].values.reshape(-1,1))\n",
    "    kmeanModel.fit(df_sap_no_anomaly['len_mean'].values.reshape(-1,1))\n",
    "    distortions.append(sum(np.min(cdist(df_sap_no_anomaly['len_mean'].values.reshape(-1,1), kmeanModel.cluster_centers_, 'euclidean'), axis=1)) / df_sap_no_anomaly.shape[0])"
   ]
  },
  {
   "cell_type": "code",
   "execution_count": null,
   "metadata": {
    "ExecuteTime": {
     "end_time": "2021-05-12T18:02:29.397073Z",
     "start_time": "2021-05-12T17:58:04.803Z"
    }
   },
   "outputs": [],
   "source": [
    "# Plot the elbow\n",
    "plt.plot(K, distortions, 'bx-')\n",
    "plt.xlabel('k')\n",
    "plt.ylabel('Distortion')\n",
    "plt.title('The Elbow Method showing the optimal k')\n",
    "plt.show()"
   ]
  },
  {
   "cell_type": "markdown",
   "metadata": {},
   "source": [
    "#### 400 feet tolerance"
   ]
  },
  {
   "cell_type": "code",
   "execution_count": null,
   "metadata": {
    "ExecuteTime": {
     "end_time": "2021-05-12T18:02:29.397943Z",
     "start_time": "2021-05-12T17:58:04.805Z"
    }
   },
   "outputs": [],
   "source": [
    "distortions_400 = []\n",
    "K = range(1,10)\n",
    "for k in K:\n",
    "    kmeanModel = KMeans(n_clusters=k).fit(df_sap_400_no_anomaly['len_mean'].values.reshape(-1,1))\n",
    "    kmeanModel.fit(df_sap_400_no_anomaly['len_mean'].values.reshape(-1,1))\n",
    "    distortions_400.append(sum(np.min(cdist(df_sap_400_no_anomaly['len_mean'].values.reshape(-1,1), kmeanModel.cluster_centers_, 'euclidean'), axis=1)) / df_sap_no_anomaly.shape[0])"
   ]
  },
  {
   "cell_type": "code",
   "execution_count": null,
   "metadata": {
    "ExecuteTime": {
     "end_time": "2021-05-12T18:02:29.398817Z",
     "start_time": "2021-05-12T17:58:04.807Z"
    }
   },
   "outputs": [],
   "source": [
    "# Plot the elbow\n",
    "plt.plot(K, distortions_400, 'bx-')\n",
    "plt.xlabel('k')\n",
    "plt.ylabel('Distortion')\n",
    "plt.title('The Elbow Method showing the optimal k')\n",
    "plt.show()"
   ]
  },
  {
   "cell_type": "markdown",
   "metadata": {},
   "source": [
    "## Decide # of groups"
   ]
  },
  {
   "cell_type": "code",
   "execution_count": null,
   "metadata": {
    "ExecuteTime": {
     "end_time": "2021-05-12T18:02:29.399723Z",
     "start_time": "2021-05-12T17:58:04.809Z"
    },
    "scrolled": true
   },
   "outputs": [],
   "source": [
    "kmeans = KMeans(n_clusters=5, max_iter=300, n_init=10, random_state=0)\n",
    "df_sap_no_anomaly['group'] = kmeans.fit_predict(df_sap_no_anomaly['len_mean'].values.reshape(-1,1))"
   ]
  },
  {
   "cell_type": "code",
   "execution_count": null,
   "metadata": {
    "ExecuteTime": {
     "end_time": "2021-05-12T18:02:29.400680Z",
     "start_time": "2021-05-12T17:58:04.810Z"
    },
    "scrolled": true
   },
   "outputs": [],
   "source": [
    "df_sap_no_anomaly['group'] = df_sap_no_anomaly['group'].replace({0:1,1:3,2:0,3:2,4:4})"
   ]
  },
  {
   "cell_type": "code",
   "execution_count": null,
   "metadata": {
    "ExecuteTime": {
     "end_time": "2021-05-12T18:02:29.402288Z",
     "start_time": "2021-05-12T17:58:04.812Z"
    }
   },
   "outputs": [],
   "source": [
    "out = df_sap_no_anomaly.groupby('group').head(500)\n",
    "out = out[['Customer_Ship_To_Number','SAP_long','SAP_lat','geo1','geo2','geo3','group']]"
   ]
  },
  {
   "cell_type": "code",
   "execution_count": null,
   "metadata": {
    "ExecuteTime": {
     "end_time": "2021-05-12T18:02:29.403074Z",
     "start_time": "2021-05-12T17:58:04.814Z"
    }
   },
   "outputs": [],
   "source": [
    "out.to_csv('/Users/mingyi_work/Desktop/Cognistx/amerigas/AmeriGas AI:ML/geocode cluster/geocode_cluster_500.csv')"
   ]
  },
  {
   "cell_type": "code",
   "execution_count": null,
   "metadata": {
    "ExecuteTime": {
     "end_time": "2021-05-12T18:02:29.404047Z",
     "start_time": "2021-05-12T17:58:04.815Z"
    }
   },
   "outputs": [],
   "source": [
    "df_sap_no_anomaly.groupby('group')['group'].count()"
   ]
  },
  {
   "cell_type": "code",
   "execution_count": null,
   "metadata": {
    "ExecuteTime": {
     "end_time": "2021-05-12T18:02:29.404898Z",
     "start_time": "2021-05-12T17:58:04.817Z"
    }
   },
   "outputs": [],
   "source": [
    "df_group = df_sap_no_anomaly.groupby('group').agg({'len_mean':['min','max','mean','count']})\n",
    "df_group.columns = ['min','max','mean','count']\n",
    "df_group = df_group.sort_values('min').reset_index(drop = True)"
   ]
  },
  {
   "cell_type": "markdown",
   "metadata": {},
   "source": [
    "#### 5 Groups"
   ]
  },
  {
   "cell_type": "code",
   "execution_count": null,
   "metadata": {
    "ExecuteTime": {
     "end_time": "2021-05-12T18:02:29.405683Z",
     "start_time": "2021-05-12T17:58:04.819Z"
    }
   },
   "outputs": [],
   "source": [
    "df_group.head()"
   ]
  },
  {
   "cell_type": "code",
   "execution_count": null,
   "metadata": {
    "ExecuteTime": {
     "end_time": "2021-05-12T18:02:29.406654Z",
     "start_time": "2021-05-12T17:58:04.820Z"
    }
   },
   "outputs": [],
   "source": [
    "#kmeans.cluster_centers_"
   ]
  },
  {
   "cell_type": "markdown",
   "metadata": {},
   "source": [
    "#### 4 groups"
   ]
  },
  {
   "cell_type": "code",
   "execution_count": null,
   "metadata": {
    "ExecuteTime": {
     "end_time": "2021-05-12T18:02:29.407498Z",
     "start_time": "2021-05-12T17:58:04.822Z"
    }
   },
   "outputs": [],
   "source": [
    "kmeans = KMeans(n_clusters=4, max_iter=300, n_init=10, random_state=0)\n",
    "df_sap_no_anomaly['group'] = kmeans.fit_predict(df_sap_no_anomaly['len_mean'].values.reshape(-1,1))\n",
    "df_group = df_sap_no_anomaly.groupby('group').agg({'len_mean':['min','max','mean','count']})\n",
    "df_group.columns = ['min','max','mean','count']\n",
    "df_group = df_group.sort_values('min').reset_index(drop = True)\n",
    "df_group"
   ]
  },
  {
   "cell_type": "markdown",
   "metadata": {},
   "source": [
    "#### 3 groups"
   ]
  },
  {
   "cell_type": "code",
   "execution_count": null,
   "metadata": {
    "ExecuteTime": {
     "end_time": "2021-05-12T18:02:29.408761Z",
     "start_time": "2021-05-12T17:58:04.824Z"
    }
   },
   "outputs": [],
   "source": [
    "kmeans = KMeans(n_clusters=3, max_iter=300, n_init=10, random_state=0)\n",
    "df_sap_no_anomaly['group'] = kmeans.fit_predict(df_sap_no_anomaly['len_mean'].values.reshape(-1,1))\n",
    "df_group = df_sap_no_anomaly.groupby('group').agg({'len_mean':['min','max','mean','count']})\n",
    "df_group.columns = ['min','max','mean','count']\n",
    "df_group = df_group.sort_values('min').reset_index(drop = True)\n",
    "df_group"
   ]
  },
  {
   "cell_type": "markdown",
   "metadata": {},
   "source": [
    "### 400 feet tolerance"
   ]
  },
  {
   "cell_type": "code",
   "execution_count": null,
   "metadata": {
    "ExecuteTime": {
     "end_time": "2021-05-12T18:02:29.409541Z",
     "start_time": "2021-05-12T17:58:04.826Z"
    }
   },
   "outputs": [],
   "source": [
    "kmeans = KMeans(n_clusters=5, max_iter=300, n_init=10, random_state=0)\n",
    "df_sap_400_no_anomaly['group'] = kmeans.fit_predict(df_sap_400_no_anomaly['len_mean'].values.reshape(-1,1))\n",
    "df_group_400 = df_sap_400_no_anomaly.groupby('group').agg({'len_mean':['min','max','mean','count']})\n",
    "df_group_400.columns = ['min','max','mean','count']\n",
    "df_group_400 = df_group_400.sort_values('min').reset_index(drop = True)\n",
    "df_group_400.head()"
   ]
  }
 ],
 "metadata": {
  "kernelspec": {
   "display_name": "Python 3",
   "language": "python",
   "name": "python3"
  },
  "language_info": {
   "codemirror_mode": {
    "name": "ipython",
    "version": 3
   },
   "file_extension": ".py",
   "mimetype": "text/x-python",
   "name": "python",
   "nbconvert_exporter": "python",
   "pygments_lexer": "ipython3",
   "version": "3.7.6"
  },
  "toc": {
   "base_numbering": 1,
   "nav_menu": {},
   "number_sections": true,
   "sideBar": true,
   "skip_h1_title": false,
   "title_cell": "Table of Contents",
   "title_sidebar": "Contents",
   "toc_cell": false,
   "toc_position": {},
   "toc_section_display": true,
   "toc_window_display": true
  }
 },
 "nbformat": 4,
 "nbformat_minor": 4
}
